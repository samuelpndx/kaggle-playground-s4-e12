{
 "cells": [
  {
   "cell_type": "code",
   "execution_count": 1,
   "id": "f7c72c09",
   "metadata": {
    "execution": {
     "iopub.execute_input": "2025-01-03T22:29:45.768250Z",
     "iopub.status.busy": "2025-01-03T22:29:45.767919Z",
     "iopub.status.idle": "2025-01-03T22:29:48.078519Z",
     "shell.execute_reply": "2025-01-03T22:29:48.077324Z"
    },
    "papermill": {
     "duration": 2.317597,
     "end_time": "2025-01-03T22:29:48.080560",
     "exception": false,
     "start_time": "2025-01-03T22:29:45.762963",
     "status": "completed"
    },
    "tags": []
   },
   "outputs": [],
   "source": [
    "import pandas as pd\n",
    "import numpy as np\n",
    "import xgboost as xgb\n",
    "from sklearn.metrics import mean_squared_error\n",
    "from sklearn.model_selection import train_test_split"
   ]
  },
  {
   "cell_type": "code",
   "execution_count": 2,
   "id": "999e8604",
   "metadata": {
    "execution": {
     "iopub.execute_input": "2025-01-03T22:29:48.088859Z",
     "iopub.status.busy": "2025-01-03T22:29:48.088280Z",
     "iopub.status.idle": "2025-01-03T22:29:59.795185Z",
     "shell.execute_reply": "2025-01-03T22:29:59.794222Z"
    },
    "papermill": {
     "duration": 11.712857,
     "end_time": "2025-01-03T22:29:59.797044",
     "exception": false,
     "start_time": "2025-01-03T22:29:48.084187",
     "status": "completed"
    },
    "tags": []
   },
   "outputs": [],
   "source": [
    "df_train = pd.read_csv('/kaggle/input/playground-series-s4e12/train.csv', index_col='id')\n",
    "df_test = pd.read_csv('/kaggle/input/playground-series-s4e12/test.csv', index_col='id')\n",
    "df_submission = pd.read_csv('/kaggle/input/playground-series-s4e12/sample_submission.csv')"
   ]
  },
  {
   "cell_type": "code",
   "execution_count": 3,
   "id": "341df0b1",
   "metadata": {
    "execution": {
     "iopub.execute_input": "2025-01-03T22:29:59.804925Z",
     "iopub.status.busy": "2025-01-03T22:29:59.804549Z",
     "iopub.status.idle": "2025-01-03T22:30:00.140301Z",
     "shell.execute_reply": "2025-01-03T22:30:00.138809Z"
    },
    "papermill": {
     "duration": 0.341681,
     "end_time": "2025-01-03T22:30:00.142220",
     "exception": false,
     "start_time": "2025-01-03T22:29:59.800539",
     "status": "completed"
    },
    "tags": []
   },
   "outputs": [],
   "source": [
    "df_train.drop('Policy Start Date', axis=1, inplace=True)\n",
    "df_test.drop('Policy Start Date', axis=1, inplace=True)"
   ]
  },
  {
   "cell_type": "code",
   "execution_count": 4,
   "id": "0216e0a8",
   "metadata": {
    "execution": {
     "iopub.execute_input": "2025-01-03T22:30:00.149964Z",
     "iopub.status.busy": "2025-01-03T22:30:00.149607Z",
     "iopub.status.idle": "2025-01-03T22:30:00.153797Z",
     "shell.execute_reply": "2025-01-03T22:30:00.152788Z"
    },
    "papermill": {
     "duration": 0.009796,
     "end_time": "2025-01-03T22:30:00.155373",
     "exception": false,
     "start_time": "2025-01-03T22:30:00.145577",
     "status": "completed"
    },
    "tags": []
   },
   "outputs": [],
   "source": [
    "target = 'Premium Amount'"
   ]
  },
  {
   "cell_type": "code",
   "execution_count": 5,
   "id": "f990d2c3",
   "metadata": {
    "execution": {
     "iopub.execute_input": "2025-01-03T22:30:00.162995Z",
     "iopub.status.busy": "2025-01-03T22:30:00.162664Z",
     "iopub.status.idle": "2025-01-03T22:30:00.301510Z",
     "shell.execute_reply": "2025-01-03T22:30:00.300582Z"
    },
    "papermill": {
     "duration": 0.144492,
     "end_time": "2025-01-03T22:30:00.303227",
     "exception": false,
     "start_time": "2025-01-03T22:30:00.158735",
     "status": "completed"
    },
    "tags": []
   },
   "outputs": [],
   "source": [
    "cat = df_train.select_dtypes(include=['object']).columns"
   ]
  },
  {
   "cell_type": "code",
   "execution_count": 6,
   "id": "aaa78017",
   "metadata": {
    "execution": {
     "iopub.execute_input": "2025-01-03T22:30:00.311021Z",
     "iopub.status.busy": "2025-01-03T22:30:00.310679Z",
     "iopub.status.idle": "2025-01-03T22:30:01.570959Z",
     "shell.execute_reply": "2025-01-03T22:30:01.569745Z"
    },
    "papermill": {
     "duration": 1.266243,
     "end_time": "2025-01-03T22:30:01.572897",
     "exception": false,
     "start_time": "2025-01-03T22:30:00.306654",
     "status": "completed"
    },
    "tags": []
   },
   "outputs": [],
   "source": [
    "X = df_train.copy()\n",
    "X.drop(target, axis=1, inplace=True)\n",
    "X[cat] = X[cat].astype('category')\n",
    "y = df_train[target]\n",
    "y = np.log1p(y)"
   ]
  },
  {
   "cell_type": "code",
   "execution_count": 7,
   "id": "b2ee6e1c",
   "metadata": {
    "execution": {
     "iopub.execute_input": "2025-01-03T22:30:01.580414Z",
     "iopub.status.busy": "2025-01-03T22:30:01.580054Z",
     "iopub.status.idle": "2025-01-03T22:30:01.836414Z",
     "shell.execute_reply": "2025-01-03T22:30:01.835583Z"
    },
    "papermill": {
     "duration": 0.262066,
     "end_time": "2025-01-03T22:30:01.838203",
     "exception": false,
     "start_time": "2025-01-03T22:30:01.576137",
     "status": "completed"
    },
    "tags": []
   },
   "outputs": [],
   "source": [
    "X_train, X_test, y_train, y_test = train_test_split(X, y, test_size=0.25, random_state=45682)"
   ]
  },
  {
   "cell_type": "code",
   "execution_count": 8,
   "id": "3a373dca",
   "metadata": {
    "execution": {
     "iopub.execute_input": "2025-01-03T22:30:01.846138Z",
     "iopub.status.busy": "2025-01-03T22:30:01.845816Z",
     "iopub.status.idle": "2025-01-03T22:30:12.473093Z",
     "shell.execute_reply": "2025-01-03T22:30:12.472015Z"
    },
    "papermill": {
     "duration": 10.633042,
     "end_time": "2025-01-03T22:30:12.474853",
     "exception": false,
     "start_time": "2025-01-03T22:30:01.841811",
     "status": "completed"
    },
    "tags": []
   },
   "outputs": [
    {
     "data": {
      "text/html": [
       "<style>#sk-container-id-1 {color: black;background-color: white;}#sk-container-id-1 pre{padding: 0;}#sk-container-id-1 div.sk-toggleable {background-color: white;}#sk-container-id-1 label.sk-toggleable__label {cursor: pointer;display: block;width: 100%;margin-bottom: 0;padding: 0.3em;box-sizing: border-box;text-align: center;}#sk-container-id-1 label.sk-toggleable__label-arrow:before {content: \"▸\";float: left;margin-right: 0.25em;color: #696969;}#sk-container-id-1 label.sk-toggleable__label-arrow:hover:before {color: black;}#sk-container-id-1 div.sk-estimator:hover label.sk-toggleable__label-arrow:before {color: black;}#sk-container-id-1 div.sk-toggleable__content {max-height: 0;max-width: 0;overflow: hidden;text-align: left;background-color: #f0f8ff;}#sk-container-id-1 div.sk-toggleable__content pre {margin: 0.2em;color: black;border-radius: 0.25em;background-color: #f0f8ff;}#sk-container-id-1 input.sk-toggleable__control:checked~div.sk-toggleable__content {max-height: 200px;max-width: 100%;overflow: auto;}#sk-container-id-1 input.sk-toggleable__control:checked~label.sk-toggleable__label-arrow:before {content: \"▾\";}#sk-container-id-1 div.sk-estimator input.sk-toggleable__control:checked~label.sk-toggleable__label {background-color: #d4ebff;}#sk-container-id-1 div.sk-label input.sk-toggleable__control:checked~label.sk-toggleable__label {background-color: #d4ebff;}#sk-container-id-1 input.sk-hidden--visually {border: 0;clip: rect(1px 1px 1px 1px);clip: rect(1px, 1px, 1px, 1px);height: 1px;margin: -1px;overflow: hidden;padding: 0;position: absolute;width: 1px;}#sk-container-id-1 div.sk-estimator {font-family: monospace;background-color: #f0f8ff;border: 1px dotted black;border-radius: 0.25em;box-sizing: border-box;margin-bottom: 0.5em;}#sk-container-id-1 div.sk-estimator:hover {background-color: #d4ebff;}#sk-container-id-1 div.sk-parallel-item::after {content: \"\";width: 100%;border-bottom: 1px solid gray;flex-grow: 1;}#sk-container-id-1 div.sk-label:hover label.sk-toggleable__label {background-color: #d4ebff;}#sk-container-id-1 div.sk-serial::before {content: \"\";position: absolute;border-left: 1px solid gray;box-sizing: border-box;top: 0;bottom: 0;left: 50%;z-index: 0;}#sk-container-id-1 div.sk-serial {display: flex;flex-direction: column;align-items: center;background-color: white;padding-right: 0.2em;padding-left: 0.2em;position: relative;}#sk-container-id-1 div.sk-item {position: relative;z-index: 1;}#sk-container-id-1 div.sk-parallel {display: flex;align-items: stretch;justify-content: center;background-color: white;position: relative;}#sk-container-id-1 div.sk-item::before, #sk-container-id-1 div.sk-parallel-item::before {content: \"\";position: absolute;border-left: 1px solid gray;box-sizing: border-box;top: 0;bottom: 0;left: 50%;z-index: -1;}#sk-container-id-1 div.sk-parallel-item {display: flex;flex-direction: column;z-index: 1;position: relative;background-color: white;}#sk-container-id-1 div.sk-parallel-item:first-child::after {align-self: flex-end;width: 50%;}#sk-container-id-1 div.sk-parallel-item:last-child::after {align-self: flex-start;width: 50%;}#sk-container-id-1 div.sk-parallel-item:only-child::after {width: 0;}#sk-container-id-1 div.sk-dashed-wrapped {border: 1px dashed gray;margin: 0 0.4em 0.5em 0.4em;box-sizing: border-box;padding-bottom: 0.4em;background-color: white;}#sk-container-id-1 div.sk-label label {font-family: monospace;font-weight: bold;display: inline-block;line-height: 1.2em;}#sk-container-id-1 div.sk-label-container {text-align: center;}#sk-container-id-1 div.sk-container {/* jupyter's `normalize.less` sets `[hidden] { display: none; }` but bootstrap.min.css set `[hidden] { display: none !important; }` so we also need the `!important` here to be able to override the default hidden behavior on the sphinx rendered scikit-learn.org. See: https://github.com/scikit-learn/scikit-learn/issues/21755 */display: inline-block !important;position: relative;}#sk-container-id-1 div.sk-text-repr-fallback {display: none;}</style><div id=\"sk-container-id-1\" class=\"sk-top-container\"><div class=\"sk-text-repr-fallback\"><pre>XGBRegressor(base_score=None, booster=None, callbacks=None,\n",
       "             colsample_bylevel=None, colsample_bynode=None,\n",
       "             colsample_bytree=None, device=None, early_stopping_rounds=None,\n",
       "             enable_categorical=True, eval_metric=None, feature_types=None,\n",
       "             gamma=None, grow_policy=None, importance_type=None,\n",
       "             interaction_constraints=None, learning_rate=None, max_bin=None,\n",
       "             max_cat_threshold=None, max_cat_to_onehot=None,\n",
       "             max_delta_step=None, max_depth=None, max_leaves=None,\n",
       "             min_child_weight=None, missing=nan, monotone_constraints=None,\n",
       "             multi_strategy=None, n_estimators=100, n_jobs=None,\n",
       "             num_parallel_tree=None, random_state=None, ...)</pre><b>In a Jupyter environment, please rerun this cell to show the HTML representation or trust the notebook. <br />On GitHub, the HTML representation is unable to render, please try loading this page with nbviewer.org.</b></div><div class=\"sk-container\" hidden><div class=\"sk-item\"><div class=\"sk-estimator sk-toggleable\"><input class=\"sk-toggleable__control sk-hidden--visually\" id=\"sk-estimator-id-1\" type=\"checkbox\" checked><label for=\"sk-estimator-id-1\" class=\"sk-toggleable__label sk-toggleable__label-arrow\">XGBRegressor</label><div class=\"sk-toggleable__content\"><pre>XGBRegressor(base_score=None, booster=None, callbacks=None,\n",
       "             colsample_bylevel=None, colsample_bynode=None,\n",
       "             colsample_bytree=None, device=None, early_stopping_rounds=None,\n",
       "             enable_categorical=True, eval_metric=None, feature_types=None,\n",
       "             gamma=None, grow_policy=None, importance_type=None,\n",
       "             interaction_constraints=None, learning_rate=None, max_bin=None,\n",
       "             max_cat_threshold=None, max_cat_to_onehot=None,\n",
       "             max_delta_step=None, max_depth=None, max_leaves=None,\n",
       "             min_child_weight=None, missing=nan, monotone_constraints=None,\n",
       "             multi_strategy=None, n_estimators=100, n_jobs=None,\n",
       "             num_parallel_tree=None, random_state=None, ...)</pre></div></div></div></div></div>"
      ],
      "text/plain": [
       "XGBRegressor(base_score=None, booster=None, callbacks=None,\n",
       "             colsample_bylevel=None, colsample_bynode=None,\n",
       "             colsample_bytree=None, device=None, early_stopping_rounds=None,\n",
       "             enable_categorical=True, eval_metric=None, feature_types=None,\n",
       "             gamma=None, grow_policy=None, importance_type=None,\n",
       "             interaction_constraints=None, learning_rate=None, max_bin=None,\n",
       "             max_cat_threshold=None, max_cat_to_onehot=None,\n",
       "             max_delta_step=None, max_depth=None, max_leaves=None,\n",
       "             min_child_weight=None, missing=nan, monotone_constraints=None,\n",
       "             multi_strategy=None, n_estimators=100, n_jobs=None,\n",
       "             num_parallel_tree=None, random_state=None, ...)"
      ]
     },
     "execution_count": 8,
     "metadata": {},
     "output_type": "execute_result"
    }
   ],
   "source": [
    "model = xgb.XGBRegressor(objective='reg:squarederror', enable_categorical=True, n_estimators=100)\n",
    "model.fit(X_train, y_train)"
   ]
  },
  {
   "cell_type": "code",
   "execution_count": 9,
   "id": "7ba62dac",
   "metadata": {
    "execution": {
     "iopub.execute_input": "2025-01-03T22:30:12.484426Z",
     "iopub.status.busy": "2025-01-03T22:30:12.483923Z",
     "iopub.status.idle": "2025-01-03T22:30:14.895987Z",
     "shell.execute_reply": "2025-01-03T22:30:14.894881Z"
    },
    "papermill": {
     "duration": 2.418147,
     "end_time": "2025-01-03T22:30:14.897637",
     "exception": false,
     "start_time": "2025-01-03T22:30:12.479490",
     "status": "completed"
    },
    "tags": []
   },
   "outputs": [
    {
     "data": {
      "text/plain": [
       "array([765.4569 , 936.72723, 778.13885, ..., 744.21356, 731.6571 ,\n",
       "       760.84503], dtype=float32)"
      ]
     },
     "execution_count": 9,
     "metadata": {},
     "output_type": "execute_result"
    }
   ],
   "source": [
    "df_test[cat] = df_test[cat].astype('category')\n",
    "predict = model.predict(df_test)\n",
    "predict = np.expm1(predict)\n",
    "predict"
   ]
  },
  {
   "cell_type": "code",
   "execution_count": 10,
   "id": "d6e048b7",
   "metadata": {
    "execution": {
     "iopub.execute_input": "2025-01-03T22:30:14.906043Z",
     "iopub.status.busy": "2025-01-03T22:30:14.905699Z",
     "iopub.status.idle": "2025-01-03T22:30:14.921548Z",
     "shell.execute_reply": "2025-01-03T22:30:14.920484Z"
    },
    "papermill": {
     "duration": 0.021996,
     "end_time": "2025-01-03T22:30:14.923342",
     "exception": false,
     "start_time": "2025-01-03T22:30:14.901346",
     "status": "completed"
    },
    "tags": []
   },
   "outputs": [
    {
     "data": {
      "text/html": [
       "<div>\n",
       "<style scoped>\n",
       "    .dataframe tbody tr th:only-of-type {\n",
       "        vertical-align: middle;\n",
       "    }\n",
       "\n",
       "    .dataframe tbody tr th {\n",
       "        vertical-align: top;\n",
       "    }\n",
       "\n",
       "    .dataframe thead th {\n",
       "        text-align: right;\n",
       "    }\n",
       "</style>\n",
       "<table border=\"1\" class=\"dataframe\">\n",
       "  <thead>\n",
       "    <tr style=\"text-align: right;\">\n",
       "      <th></th>\n",
       "      <th>id</th>\n",
       "      <th>Premium Amount</th>\n",
       "    </tr>\n",
       "  </thead>\n",
       "  <tbody>\n",
       "    <tr>\n",
       "      <th>0</th>\n",
       "      <td>1200000</td>\n",
       "      <td>765.456909</td>\n",
       "    </tr>\n",
       "    <tr>\n",
       "      <th>1</th>\n",
       "      <td>1200001</td>\n",
       "      <td>936.727234</td>\n",
       "    </tr>\n",
       "    <tr>\n",
       "      <th>2</th>\n",
       "      <td>1200002</td>\n",
       "      <td>778.138855</td>\n",
       "    </tr>\n",
       "    <tr>\n",
       "      <th>3</th>\n",
       "      <td>1200003</td>\n",
       "      <td>862.501709</td>\n",
       "    </tr>\n",
       "    <tr>\n",
       "      <th>4</th>\n",
       "      <td>1200004</td>\n",
       "      <td>783.257324</td>\n",
       "    </tr>\n",
       "  </tbody>\n",
       "</table>\n",
       "</div>"
      ],
      "text/plain": [
       "        id  Premium Amount\n",
       "0  1200000      765.456909\n",
       "1  1200001      936.727234\n",
       "2  1200002      778.138855\n",
       "3  1200003      862.501709\n",
       "4  1200004      783.257324"
      ]
     },
     "execution_count": 10,
     "metadata": {},
     "output_type": "execute_result"
    }
   ],
   "source": [
    "df_submission[target] = predict\n",
    "df_submission.head()"
   ]
  },
  {
   "cell_type": "code",
   "execution_count": 11,
   "id": "fb803aa5",
   "metadata": {
    "execution": {
     "iopub.execute_input": "2025-01-03T22:30:14.932002Z",
     "iopub.status.busy": "2025-01-03T22:30:14.931670Z",
     "iopub.status.idle": "2025-01-03T22:30:16.099622Z",
     "shell.execute_reply": "2025-01-03T22:30:16.098628Z"
    },
    "papermill": {
     "duration": 1.174396,
     "end_time": "2025-01-03T22:30:16.101540",
     "exception": false,
     "start_time": "2025-01-03T22:30:14.927144",
     "status": "completed"
    },
    "tags": []
   },
   "outputs": [],
   "source": [
    "df_submission.to_csv('submission.csv', index=False)"
   ]
  },
  {
   "cell_type": "code",
   "execution_count": null,
   "id": "b2d3519b",
   "metadata": {
    "papermill": {
     "duration": 0.003501,
     "end_time": "2025-01-03T22:30:16.108901",
     "exception": false,
     "start_time": "2025-01-03T22:30:16.105400",
     "status": "completed"
    },
    "tags": []
   },
   "outputs": [],
   "source": []
  }
 ],
 "metadata": {
  "kaggle": {
   "accelerator": "none",
   "dataSources": [
    {
     "databundleVersionId": 10305135,
     "sourceId": 84896,
     "sourceType": "competition"
    }
   ],
   "dockerImageVersionId": 30822,
   "isGpuEnabled": false,
   "isInternetEnabled": true,
   "language": "python",
   "sourceType": "notebook"
  },
  "kernelspec": {
   "display_name": "Python 3",
   "language": "python",
   "name": "python3"
  },
  "language_info": {
   "codemirror_mode": {
    "name": "ipython",
    "version": 3
   },
   "file_extension": ".py",
   "mimetype": "text/x-python",
   "name": "python",
   "nbconvert_exporter": "python",
   "pygments_lexer": "ipython3",
   "version": "3.10.12"
  },
  "papermill": {
   "default_parameters": {},
   "duration": 33.547164,
   "end_time": "2025-01-03T22:30:16.833772",
   "environment_variables": {},
   "exception": null,
   "input_path": "__notebook__.ipynb",
   "output_path": "__notebook__.ipynb",
   "parameters": {},
   "start_time": "2025-01-03T22:29:43.286608",
   "version": "2.6.0"
  }
 },
 "nbformat": 4,
 "nbformat_minor": 5
}
